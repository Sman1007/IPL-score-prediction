{
 "cells": [
  {
   "cell_type": "code",
   "execution_count": 1,
   "metadata": {},
   "outputs": [],
   "source": [
    "import numpy as np\n",
    "import pandas as pd\n",
    "import matplotlib.pyplot as plt"
   ]
  },
  {
   "cell_type": "code",
   "execution_count": 2,
   "metadata": {},
   "outputs": [
    {
     "data": {
      "text/html": [
       "<div>\n",
       "<style scoped>\n",
       "    .dataframe tbody tr th:only-of-type {\n",
       "        vertical-align: middle;\n",
       "    }\n",
       "\n",
       "    .dataframe tbody tr th {\n",
       "        vertical-align: top;\n",
       "    }\n",
       "\n",
       "    .dataframe thead th {\n",
       "        text-align: right;\n",
       "    }\n",
       "</style>\n",
       "<table border=\"1\" class=\"dataframe\">\n",
       "  <thead>\n",
       "    <tr style=\"text-align: right;\">\n",
       "      <th></th>\n",
       "      <th>ID</th>\n",
       "      <th>innings</th>\n",
       "      <th>overs</th>\n",
       "      <th>ballnumber</th>\n",
       "      <th>batter</th>\n",
       "      <th>bowler</th>\n",
       "      <th>non-striker</th>\n",
       "      <th>extra_type</th>\n",
       "      <th>batsman_run</th>\n",
       "      <th>extras_run</th>\n",
       "      <th>total_run</th>\n",
       "      <th>non_boundary</th>\n",
       "      <th>isWicketDelivery</th>\n",
       "      <th>player_out</th>\n",
       "      <th>kind</th>\n",
       "      <th>fielders_involved</th>\n",
       "      <th>BattingTeam</th>\n",
       "    </tr>\n",
       "  </thead>\n",
       "  <tbody>\n",
       "    <tr>\n",
       "      <th>0</th>\n",
       "      <td>1312200</td>\n",
       "      <td>1</td>\n",
       "      <td>0</td>\n",
       "      <td>1</td>\n",
       "      <td>YBK Jaiswal</td>\n",
       "      <td>Mohammed Shami</td>\n",
       "      <td>JC Buttler</td>\n",
       "      <td>NaN</td>\n",
       "      <td>0</td>\n",
       "      <td>0</td>\n",
       "      <td>0</td>\n",
       "      <td>0</td>\n",
       "      <td>0</td>\n",
       "      <td>NaN</td>\n",
       "      <td>NaN</td>\n",
       "      <td>NaN</td>\n",
       "      <td>Rajasthan Royals</td>\n",
       "    </tr>\n",
       "    <tr>\n",
       "      <th>1</th>\n",
       "      <td>1312200</td>\n",
       "      <td>1</td>\n",
       "      <td>0</td>\n",
       "      <td>2</td>\n",
       "      <td>YBK Jaiswal</td>\n",
       "      <td>Mohammed Shami</td>\n",
       "      <td>JC Buttler</td>\n",
       "      <td>legbyes</td>\n",
       "      <td>0</td>\n",
       "      <td>1</td>\n",
       "      <td>1</td>\n",
       "      <td>0</td>\n",
       "      <td>0</td>\n",
       "      <td>NaN</td>\n",
       "      <td>NaN</td>\n",
       "      <td>NaN</td>\n",
       "      <td>Rajasthan Royals</td>\n",
       "    </tr>\n",
       "  </tbody>\n",
       "</table>\n",
       "</div>"
      ],
      "text/plain": [
       "        ID  innings  overs  ballnumber       batter          bowler  \\\n",
       "0  1312200        1      0           1  YBK Jaiswal  Mohammed Shami   \n",
       "1  1312200        1      0           2  YBK Jaiswal  Mohammed Shami   \n",
       "\n",
       "  non-striker extra_type  batsman_run  extras_run  total_run  non_boundary  \\\n",
       "0  JC Buttler        NaN            0           0          0             0   \n",
       "1  JC Buttler    legbyes            0           1          1             0   \n",
       "\n",
       "   isWicketDelivery player_out kind fielders_involved       BattingTeam  \n",
       "0                 0        NaN  NaN               NaN  Rajasthan Royals  \n",
       "1                 0        NaN  NaN               NaN  Rajasthan Royals  "
      ]
     },
     "execution_count": 2,
     "metadata": {},
     "output_type": "execute_result"
    }
   ],
   "source": [
    "data = pd.read_csv(r\"C:\\Users\\darsh\\Desktop\\Projects\\IPL\\data\\IPL_Ball_by_Ball_2008_2022.csv\")\n",
    "players = pd.read_excel(r\"C:\\Users\\darsh\\Desktop\\Projects\\IPL\\data\\Copy of Ipl_2023 _cricketers.xlsx\")\n",
    "data.head(2)"
   ]
  },
  {
   "cell_type": "code",
   "execution_count": 3,
   "metadata": {},
   "outputs": [
    {
     "data": {
      "text/plain": [
       "array([nan, 'caught', 'caught and bowled', 'run out', 'bowled', 'stumped',\n",
       "       'lbw', 'hit wicket', 'retired hurt', 'retired out',\n",
       "       'obstructing the field'], dtype=object)"
      ]
     },
     "execution_count": 3,
     "metadata": {},
     "output_type": "execute_result"
    }
   ],
   "source": [
    "data['kind'].unique()"
   ]
  },
  {
   "attachments": {},
   "cell_type": "markdown",
   "metadata": {},
   "source": [
    "# Batter data"
   ]
  },
  {
   "cell_type": "code",
   "execution_count": 4,
   "metadata": {},
   "outputs": [
    {
     "data": {
      "text/plain": [
       "0          YBK Jaiswal\n",
       "1           JC Buttler\n",
       "2            SV Samson\n",
       "3           D Padikkal\n",
       "4           SO Hetmyer\n",
       "            ...       \n",
       "600    D Kalyankrishna\n",
       "601           MA Khote\n",
       "602           SB Joshi\n",
       "603         DS Lehmann\n",
       "604          AA Noffke\n",
       "Length: 605, dtype: object"
      ]
     },
     "execution_count": 4,
     "metadata": {},
     "output_type": "execute_result"
    }
   ],
   "source": [
    "past_batters = pd.Series(pd.unique(data['batter']))\n",
    "past_batters"
   ]
  },
  {
   "cell_type": "code",
   "execution_count": 5,
   "metadata": {},
   "outputs": [
    {
     "data": {
      "text/plain": [
       "batter\n",
       "A Ashish Reddy     23\n",
       "A Badoni           11\n",
       "A Chandila          2\n",
       "A Chopra            6\n",
       "A Choudhary         3\n",
       "                 ... \n",
       "Yash Dayal          1\n",
       "Yashpal Singh       4\n",
       "Younis Khan         1\n",
       "Yuvraj Singh      126\n",
       "Z Khan             27\n",
       "Name: ID, Length: 605, dtype: int64"
      ]
     },
     "execution_count": 5,
     "metadata": {},
     "output_type": "execute_result"
    }
   ],
   "source": [
    "# Innings played\n",
    "n_batting_innings = data.groupby('batter').nunique()['ID']\n",
    "n_batting_innings"
   ]
  },
  {
   "cell_type": "code",
   "execution_count": 6,
   "metadata": {},
   "outputs": [
    {
     "data": {
      "text/plain": [
       "batter\n",
       "A Ashish Reddy     280\n",
       "A Badoni           161\n",
       "A Chandila           4\n",
       "A Chopra            53\n",
       "A Choudhary         25\n",
       "                  ... \n",
       "Yash Dayal           0\n",
       "Yashpal Singh       47\n",
       "Younis Khan          3\n",
       "Yuvraj Singh      2754\n",
       "Z Khan             117\n",
       "Name: batsman_run, Length: 605, dtype: int64"
      ]
     },
     "execution_count": 6,
     "metadata": {},
     "output_type": "execute_result"
    }
   ],
   "source": [
    "n_runs = data.groupby('batter')['batsman_run'].sum()\n",
    "n_runs"
   ]
  },
  {
   "cell_type": "code",
   "execution_count": 7,
   "metadata": {},
   "outputs": [
    {
     "data": {
      "text/plain": [
       "batter\n",
       "A Ashish Reddy    18.666667\n",
       "A Badoni          17.888889\n",
       "A Chandila         4.000000\n",
       "A Chopra          10.600000\n",
       "A Choudhary       12.500000\n",
       "                    ...    \n",
       "Yash Dayal         0.000000\n",
       "Yashpal Singh     11.750000\n",
       "Younis Khan        3.000000\n",
       "Yuvraj Singh      25.266055\n",
       "Z Khan             7.800000\n",
       "Length: 605, dtype: float64"
      ]
     },
     "execution_count": 7,
     "metadata": {},
     "output_type": "execute_result"
    }
   ],
   "source": [
    "# Batting average\n",
    "n_outs = data.groupby('batter')['isWicketDelivery'].sum()\n",
    "batting_avg = n_runs / n_outs\n",
    "batting_avg"
   ]
  },
  {
   "cell_type": "code",
   "execution_count": 8,
   "metadata": {},
   "outputs": [
    {
     "data": {
      "text/plain": [
       "batter\n",
       "A Ashish Reddy     196\n",
       "A Badoni           139\n",
       "A Chandila           7\n",
       "A Chopra            75\n",
       "A Choudhary         20\n",
       "                  ... \n",
       "Yash Dayal           1\n",
       "Yashpal Singh       67\n",
       "Younis Khan          7\n",
       "Yuvraj Singh      2207\n",
       "Z Khan             141\n",
       "Name: ID, Length: 605, dtype: int64"
      ]
     },
     "execution_count": 8,
     "metadata": {},
     "output_type": "execute_result"
    }
   ],
   "source": [
    "# No. of bowls faced\n",
    "n_bowls_faced = data.groupby('batter').count()['ID']\n",
    "n_bowls_faced"
   ]
  },
  {
   "cell_type": "code",
   "execution_count": 9,
   "metadata": {},
   "outputs": [
    {
     "data": {
      "text/plain": [
       "batter\n",
       "A Ashish Reddy    142.857143\n",
       "A Badoni          115.827338\n",
       "A Chandila         57.142857\n",
       "A Chopra           70.666667\n",
       "A Choudhary       125.000000\n",
       "                     ...    \n",
       "Yash Dayal          0.000000\n",
       "Yashpal Singh      70.149254\n",
       "Younis Khan        42.857143\n",
       "Yuvraj Singh      124.784776\n",
       "Z Khan             82.978723\n",
       "Length: 605, dtype: float64"
      ]
     },
     "execution_count": 9,
     "metadata": {},
     "output_type": "execute_result"
    }
   ],
   "source": [
    "# Strike rate\n",
    "strike_rate = (n_runs / n_bowls_faced) * 100\n",
    "strike_rate"
   ]
  },
  {
   "cell_type": "code",
   "execution_count": 10,
   "metadata": {},
   "outputs": [],
   "source": [
    "batter_strength = 0.1 * n_bowls_faced + 0.3 * batting_avg + 0.3 * strike_rate + 0.3 * n_runs"
   ]
  },
  {
   "attachments": {},
   "cell_type": "markdown",
   "metadata": {},
   "source": [
    "# Bowlers data"
   ]
  },
  {
   "cell_type": "code",
   "execution_count": 11,
   "metadata": {},
   "outputs": [],
   "source": [
    "past_bowlers = pd.Series(pd.unique(data['bowler']))"
   ]
  },
  {
   "cell_type": "code",
   "execution_count": 12,
   "metadata": {},
   "outputs": [
    {
     "data": {
      "text/plain": [
       "bowler\n",
       "A Ashish Reddy     18\n",
       "A Badoni            2\n",
       "A Chandila         11\n",
       "A Choudhary         5\n",
       "A Flintoff          2\n",
       "                 ... \n",
       "YK Pathan          42\n",
       "YS Chahal         166\n",
       "Yash Dayal         11\n",
       "Yuvraj Singh       36\n",
       "Z Khan            102\n",
       "Name: player_out, Length: 404, dtype: int64"
      ]
     },
     "execution_count": 12,
     "metadata": {},
     "output_type": "execute_result"
    }
   ],
   "source": [
    "# No. of wickets\n",
    "# Find all the wicket taking deliveries. \"run out\", \"retired hurt\", \"retired out\" are not considered\n",
    "wicket_mask = data['kind'].isin(['caught', 'caught and bowled', 'bowled', 'stumped', 'lbw', 'hit wicket'])\n",
    "wicket_data = data[wicket_mask]\n",
    "n_wickets0 = wicket_data.groupby('bowler')['player_out'].count()\n",
    "n_wickets0"
   ]
  },
  {
   "cell_type": "code",
   "execution_count": 13,
   "metadata": {},
   "outputs": [
    {
     "data": {
      "text/plain": [
       "102"
      ]
     },
     "execution_count": 13,
     "metadata": {},
     "output_type": "execute_result"
    }
   ],
   "source": [
    "n_wickets0['Z Khan']"
   ]
  },
  {
   "cell_type": "code",
   "execution_count": 14,
   "metadata": {},
   "outputs": [
    {
     "data": {
      "text/plain": [
       "472"
      ]
     },
     "execution_count": 14,
     "metadata": {},
     "output_type": "execute_result"
    }
   ],
   "source": [
    "n_wickets = pd.Series({x:n_wickets0[x] if x in n_wickets0.keys() else 0 for x in past_bowlers})\n",
    "len(n_wickets)"
   ]
  },
  {
   "cell_type": "code",
   "execution_count": 15,
   "metadata": {},
   "outputs": [
    {
     "data": {
      "text/plain": [
       "bowler\n",
       "A Ashish Reddy     20\n",
       "A Badoni            2\n",
       "A Chandila         12\n",
       "A Choudhary         5\n",
       "A Dananjaya         1\n",
       "                 ... \n",
       "YK Pathan          82\n",
       "YS Chahal         130\n",
       "Yash Dayal          9\n",
       "Yuvraj Singh       73\n",
       "Z Khan             99\n",
       "Name: ID, Length: 472, dtype: int64"
      ]
     },
     "execution_count": 15,
     "metadata": {},
     "output_type": "execute_result"
    }
   ],
   "source": [
    "# No. of innings played\n",
    "n_innings = data.groupby('bowler')['ID'].nunique()\n",
    "n_innings"
   ]
  },
  {
   "cell_type": "code",
   "execution_count": 16,
   "metadata": {},
   "outputs": [
    {
     "data": {
      "text/plain": [
       "bowler\n",
       "A Ashish Reddy     400\n",
       "A Badoni            12\n",
       "A Chandila         245\n",
       "A Choudhary        144\n",
       "A Dananjaya         47\n",
       "                  ... \n",
       "YK Pathan         1443\n",
       "YS Chahal         3699\n",
       "Yash Dayal         296\n",
       "Yuvraj Singh      1091\n",
       "Z Khan            2860\n",
       "Name: total_run, Length: 472, dtype: int64"
      ]
     },
     "execution_count": 16,
     "metadata": {},
     "output_type": "execute_result"
    }
   ],
   "source": [
    "# No. of bowls they have bowled and corresponding runs\n",
    "runs_conceded = data.groupby('bowler')['total_run'].sum()\n",
    "runs_conceded"
   ]
  },
  {
   "cell_type": "code",
   "execution_count": 17,
   "metadata": {},
   "outputs": [
    {
     "data": {
      "text/plain": [
       "bowler\n",
       "A Ashish Reddy     45.000000\n",
       "A Badoni            2.000000\n",
       "A Chandila         39.000000\n",
       "A Choudhary        18.000000\n",
       "A Dananjaya         4.166667\n",
       "                     ...    \n",
       "YK Pathan         197.333333\n",
       "YS Chahal         490.000000\n",
       "Yash Dayal         34.166667\n",
       "Yuvraj Singh      147.000000\n",
       "Z Khan            379.333333\n",
       "Name: ID, Length: 472, dtype: float64"
      ]
     },
     "execution_count": 17,
     "metadata": {},
     "output_type": "execute_result"
    }
   ],
   "source": [
    "# No. of bowls bowled in (over)\n",
    "n_overs = data.groupby('bowler').count()['ID']/6\n",
    "n_overs"
   ]
  },
  {
   "cell_type": "code",
   "execution_count": 18,
   "metadata": {},
   "outputs": [
    {
     "name": "stdout",
     "output_type": "stream",
     "text": [
      "472\n",
      "472\n",
      "472\n",
      "472\n"
     ]
    }
   ],
   "source": [
    "print(len(n_wickets))\n",
    "print(len(n_innings))\n",
    "print(len(runs_conceded))\n",
    "print(len(n_overs))"
   ]
  },
  {
   "cell_type": "code",
   "execution_count": 26,
   "metadata": {},
   "outputs": [],
   "source": [
    "# Bowling average\n",
    "bowling_avg0 = runs_conceded / n_wickets\n",
    "bowling_eco = runs_conceded / n_overs"
   ]
  },
  {
   "cell_type": "code",
   "execution_count": 27,
   "metadata": {},
   "outputs": [],
   "source": [
    "bowling_avg = bowling_avg0.apply(lambda x: x if x != np.inf else 0)"
   ]
  },
  {
   "cell_type": "code",
   "execution_count": 29,
   "metadata": {},
   "outputs": [
    {
     "data": {
      "text/plain": [
       "A Ashish Reddy     19.233333\n",
       "A Badoni            4.400000\n",
       "A Chandila         15.766434\n",
       "A Choudhary        14.340000\n",
       "A Dananjaya         3.800667\n",
       "                     ...    \n",
       "YK Pathan          44.834226\n",
       "YS Chahal         107.749634\n",
       "Yash Dayal         17.388418\n",
       "Yuvraj Singh       36.818197\n",
       "Z Khan             79.206961\n",
       "Length: 472, dtype: float64"
      ]
     },
     "execution_count": 29,
     "metadata": {},
     "output_type": "execute_result"
    }
   ],
   "source": [
    "# Calculating bowlers strength\n",
    "# bowler strength = 0.2*n_overs_bowled + 0.3*economy + 0.3*avg + 0.2*no_wickets\n",
    "bowler_strength = 0.1 * n_overs + 0.3 * bowling_eco + 0.3 * bowling_avg + 0.3 * n_wickets\n",
    "bowler_strength"
   ]
  },
  {
   "attachments": {},
   "cell_type": "markdown",
   "metadata": {},
   "source": [
    "# Creating training data"
   ]
  },
  {
   "cell_type": "code",
   "execution_count": 30,
   "metadata": {},
   "outputs": [
    {
     "data": {
      "text/html": [
       "<div>\n",
       "<style scoped>\n",
       "    .dataframe tbody tr th:only-of-type {\n",
       "        vertical-align: middle;\n",
       "    }\n",
       "\n",
       "    .dataframe tbody tr th {\n",
       "        vertical-align: top;\n",
       "    }\n",
       "\n",
       "    .dataframe thead th {\n",
       "        text-align: right;\n",
       "    }\n",
       "</style>\n",
       "<table border=\"1\" class=\"dataframe\">\n",
       "  <thead>\n",
       "    <tr style=\"text-align: right;\">\n",
       "      <th></th>\n",
       "      <th>ID</th>\n",
       "      <th>innings</th>\n",
       "      <th>overs</th>\n",
       "      <th>ballnumber</th>\n",
       "      <th>batter</th>\n",
       "      <th>bowler</th>\n",
       "      <th>non-striker</th>\n",
       "      <th>extra_type</th>\n",
       "      <th>batsman_run</th>\n",
       "      <th>extras_run</th>\n",
       "      <th>total_run</th>\n",
       "      <th>non_boundary</th>\n",
       "      <th>isWicketDelivery</th>\n",
       "      <th>player_out</th>\n",
       "      <th>kind</th>\n",
       "      <th>fielders_involved</th>\n",
       "      <th>BattingTeam</th>\n",
       "    </tr>\n",
       "  </thead>\n",
       "  <tbody>\n",
       "    <tr>\n",
       "      <th>0</th>\n",
       "      <td>1312200</td>\n",
       "      <td>1</td>\n",
       "      <td>0</td>\n",
       "      <td>1</td>\n",
       "      <td>YBK Jaiswal</td>\n",
       "      <td>Mohammed Shami</td>\n",
       "      <td>JC Buttler</td>\n",
       "      <td>NaN</td>\n",
       "      <td>0</td>\n",
       "      <td>0</td>\n",
       "      <td>0</td>\n",
       "      <td>0</td>\n",
       "      <td>0</td>\n",
       "      <td>NaN</td>\n",
       "      <td>NaN</td>\n",
       "      <td>NaN</td>\n",
       "      <td>Rajasthan Royals</td>\n",
       "    </tr>\n",
       "    <tr>\n",
       "      <th>1</th>\n",
       "      <td>1312200</td>\n",
       "      <td>1</td>\n",
       "      <td>0</td>\n",
       "      <td>2</td>\n",
       "      <td>YBK Jaiswal</td>\n",
       "      <td>Mohammed Shami</td>\n",
       "      <td>JC Buttler</td>\n",
       "      <td>legbyes</td>\n",
       "      <td>0</td>\n",
       "      <td>1</td>\n",
       "      <td>1</td>\n",
       "      <td>0</td>\n",
       "      <td>0</td>\n",
       "      <td>NaN</td>\n",
       "      <td>NaN</td>\n",
       "      <td>NaN</td>\n",
       "      <td>Rajasthan Royals</td>\n",
       "    </tr>\n",
       "  </tbody>\n",
       "</table>\n",
       "</div>"
      ],
      "text/plain": [
       "        ID  innings  overs  ballnumber       batter          bowler  \\\n",
       "0  1312200        1      0           1  YBK Jaiswal  Mohammed Shami   \n",
       "1  1312200        1      0           2  YBK Jaiswal  Mohammed Shami   \n",
       "\n",
       "  non-striker extra_type  batsman_run  extras_run  total_run  non_boundary  \\\n",
       "0  JC Buttler        NaN            0           0          0             0   \n",
       "1  JC Buttler    legbyes            0           1          1             0   \n",
       "\n",
       "   isWicketDelivery player_out kind fielders_involved       BattingTeam  \n",
       "0                 0        NaN  NaN               NaN  Rajasthan Royals  \n",
       "1                 0        NaN  NaN               NaN  Rajasthan Royals  "
      ]
     },
     "execution_count": 30,
     "metadata": {},
     "output_type": "execute_result"
    }
   ],
   "source": [
    "data.head(2)"
   ]
  },
  {
   "cell_type": "code",
   "execution_count": 31,
   "metadata": {},
   "outputs": [],
   "source": [
    "# consider only the first 6 overs of each match\n",
    "mask_6over = data['overs'] < 6\n",
    "df1 = data[mask_6over]  # df1 has data of first six overs of each match."
   ]
  },
  {
   "cell_type": "code",
   "execution_count": 32,
   "metadata": {},
   "outputs": [],
   "source": [
    "matchwise_batter = df1.groupby(['ID', 'innings'])['batter'].unique().reset_index()\n",
    "matchwise_bowler = df1.groupby(['ID', 'innings'])['bowler'].unique().reset_index()"
   ]
  },
  {
   "cell_type": "code",
   "execution_count": 33,
   "metadata": {},
   "outputs": [
    {
     "data": {
      "text/html": [
       "<div>\n",
       "<style scoped>\n",
       "    .dataframe tbody tr th:only-of-type {\n",
       "        vertical-align: middle;\n",
       "    }\n",
       "\n",
       "    .dataframe tbody tr th {\n",
       "        vertical-align: top;\n",
       "    }\n",
       "\n",
       "    .dataframe thead th {\n",
       "        text-align: right;\n",
       "    }\n",
       "</style>\n",
       "<table border=\"1\" class=\"dataframe\">\n",
       "  <thead>\n",
       "    <tr style=\"text-align: right;\">\n",
       "      <th></th>\n",
       "      <th>index</th>\n",
       "      <th>ID</th>\n",
       "      <th>innings</th>\n",
       "      <th>batter</th>\n",
       "    </tr>\n",
       "  </thead>\n",
       "  <tbody>\n",
       "    <tr>\n",
       "      <th>0</th>\n",
       "      <td>0</td>\n",
       "      <td>335982</td>\n",
       "      <td>1</td>\n",
       "      <td>[SC Ganguly, BB McCullum, RT Ponting]</td>\n",
       "    </tr>\n",
       "    <tr>\n",
       "      <th>1</th>\n",
       "      <td>1</td>\n",
       "      <td>335982</td>\n",
       "      <td>2</td>\n",
       "      <td>[R Dravid, W Jaffer, V Kohli, JH Kallis, CL Wh...</td>\n",
       "    </tr>\n",
       "    <tr>\n",
       "      <th>2</th>\n",
       "      <td>2</td>\n",
       "      <td>335983</td>\n",
       "      <td>1</td>\n",
       "      <td>[PA Patel, ML Hayden, MEK Hussey]</td>\n",
       "    </tr>\n",
       "    <tr>\n",
       "      <th>3</th>\n",
       "      <td>3</td>\n",
       "      <td>335983</td>\n",
       "      <td>2</td>\n",
       "      <td>[K Goel, JR Hopes]</td>\n",
       "    </tr>\n",
       "    <tr>\n",
       "      <th>4</th>\n",
       "      <td>4</td>\n",
       "      <td>335984</td>\n",
       "      <td>1</td>\n",
       "      <td>[T Kohli, YK Pathan, SR Watson, M Kaif]</td>\n",
       "    </tr>\n",
       "    <tr>\n",
       "      <th>...</th>\n",
       "      <td>...</td>\n",
       "      <td>...</td>\n",
       "      <td>...</td>\n",
       "      <td>...</td>\n",
       "    </tr>\n",
       "    <tr>\n",
       "      <th>1923</th>\n",
       "      <td>1923</td>\n",
       "      <td>1312198</td>\n",
       "      <td>2</td>\n",
       "      <td>[Q de Kock, KL Rahul, M Vohra, DJ Hooda]</td>\n",
       "    </tr>\n",
       "    <tr>\n",
       "      <th>1924</th>\n",
       "      <td>1924</td>\n",
       "      <td>1312199</td>\n",
       "      <td>1</td>\n",
       "      <td>[V Kohli, F du Plessis, RM Patidar]</td>\n",
       "    </tr>\n",
       "    <tr>\n",
       "      <th>1925</th>\n",
       "      <td>1925</td>\n",
       "      <td>1312199</td>\n",
       "      <td>2</td>\n",
       "      <td>[YBK Jaiswal, JC Buttler, SV Samson]</td>\n",
       "    </tr>\n",
       "    <tr>\n",
       "      <th>1926</th>\n",
       "      <td>1926</td>\n",
       "      <td>1312200</td>\n",
       "      <td>1</td>\n",
       "      <td>[YBK Jaiswal, JC Buttler, SV Samson]</td>\n",
       "    </tr>\n",
       "    <tr>\n",
       "      <th>1927</th>\n",
       "      <td>1927</td>\n",
       "      <td>1312200</td>\n",
       "      <td>2</td>\n",
       "      <td>[WP Saha, Shubman Gill, MS Wade, HH Pandya]</td>\n",
       "    </tr>\n",
       "  </tbody>\n",
       "</table>\n",
       "<p>1928 rows × 4 columns</p>\n",
       "</div>"
      ],
      "text/plain": [
       "      index       ID  innings  \\\n",
       "0         0   335982        1   \n",
       "1         1   335982        2   \n",
       "2         2   335983        1   \n",
       "3         3   335983        2   \n",
       "4         4   335984        1   \n",
       "...     ...      ...      ...   \n",
       "1923   1923  1312198        2   \n",
       "1924   1924  1312199        1   \n",
       "1925   1925  1312199        2   \n",
       "1926   1926  1312200        1   \n",
       "1927   1927  1312200        2   \n",
       "\n",
       "                                                 batter  \n",
       "0                 [SC Ganguly, BB McCullum, RT Ponting]  \n",
       "1     [R Dravid, W Jaffer, V Kohli, JH Kallis, CL Wh...  \n",
       "2                     [PA Patel, ML Hayden, MEK Hussey]  \n",
       "3                                    [K Goel, JR Hopes]  \n",
       "4               [T Kohli, YK Pathan, SR Watson, M Kaif]  \n",
       "...                                                 ...  \n",
       "1923           [Q de Kock, KL Rahul, M Vohra, DJ Hooda]  \n",
       "1924                [V Kohli, F du Plessis, RM Patidar]  \n",
       "1925               [YBK Jaiswal, JC Buttler, SV Samson]  \n",
       "1926               [YBK Jaiswal, JC Buttler, SV Samson]  \n",
       "1927        [WP Saha, Shubman Gill, MS Wade, HH Pandya]  \n",
       "\n",
       "[1928 rows x 4 columns]"
      ]
     },
     "execution_count": 33,
     "metadata": {},
     "output_type": "execute_result"
    }
   ],
   "source": [
    "matchwise_batter_df = matchwise_batter.reset_index()\n",
    "matchwise_batter_df"
   ]
  },
  {
   "cell_type": "code",
   "execution_count": 34,
   "metadata": {},
   "outputs": [],
   "source": [
    "def cal_batting_power(batsmen):\n",
    "    n_batsmen = len(batsmen)\n",
    "    total_score = 0\n",
    "    for batter in batsmen:\n",
    "        total_score += batter_strength[batter]\n",
    "    return total_score / n_batsmen"
   ]
  },
  {
   "cell_type": "code",
   "execution_count": 35,
   "metadata": {},
   "outputs": [],
   "source": [
    "def cal_bowling_power(bowlers):\n",
    "    n_bowler = len(bowlers)\n",
    "    total_score = 0\n",
    "    for bowler in bowlers:\n",
    "        total_score += bowler_strength[bowler]\n",
    "    return total_score / n_bowler"
   ]
  },
  {
   "cell_type": "code",
   "execution_count": 36,
   "metadata": {},
   "outputs": [],
   "source": [
    "data0 = pd.merge(matchwise_batter, matchwise_bowler, on=['ID', 'innings'])"
   ]
  },
  {
   "cell_type": "code",
   "execution_count": 37,
   "metadata": {},
   "outputs": [],
   "source": [
    "data0['batting_strength'] = data0['batter'].apply(lambda x: cal_batting_power(x)).values"
   ]
  },
  {
   "cell_type": "code",
   "execution_count": 38,
   "metadata": {},
   "outputs": [],
   "source": [
    "data0['bowling_strength'] = data0['bowler'].apply(lambda x: cal_bowling_power(x)).values"
   ]
  },
  {
   "cell_type": "code",
   "execution_count": 39,
   "metadata": {},
   "outputs": [],
   "source": [
    "# Finding score of first 6 overs\n",
    "score_6over = df1.groupby(['ID', 'innings'])['total_run'].sum().reset_index()"
   ]
  },
  {
   "cell_type": "code",
   "execution_count": 40,
   "metadata": {},
   "outputs": [
    {
     "data": {
      "text/html": [
       "<div>\n",
       "<style scoped>\n",
       "    .dataframe tbody tr th:only-of-type {\n",
       "        vertical-align: middle;\n",
       "    }\n",
       "\n",
       "    .dataframe tbody tr th {\n",
       "        vertical-align: top;\n",
       "    }\n",
       "\n",
       "    .dataframe thead th {\n",
       "        text-align: right;\n",
       "    }\n",
       "</style>\n",
       "<table border=\"1\" class=\"dataframe\">\n",
       "  <thead>\n",
       "    <tr style=\"text-align: right;\">\n",
       "      <th></th>\n",
       "      <th>ID</th>\n",
       "      <th>innings</th>\n",
       "      <th>batter</th>\n",
       "      <th>bowler</th>\n",
       "      <th>batting_strength</th>\n",
       "      <th>bowling_strength</th>\n",
       "    </tr>\n",
       "  </thead>\n",
       "  <tbody>\n",
       "    <tr>\n",
       "      <th>0</th>\n",
       "      <td>335982</td>\n",
       "      <td>1</td>\n",
       "      <td>[SC Ganguly, BB McCullum, RT Ponting]</td>\n",
       "      <td>[P Kumar, Z Khan, AA Noffke]</td>\n",
       "      <td>592.700426</td>\n",
       "      <td>59.848952</td>\n",
       "    </tr>\n",
       "    <tr>\n",
       "      <th>1</th>\n",
       "      <td>335982</td>\n",
       "      <td>2</td>\n",
       "      <td>[R Dravid, W Jaffer, V Kohli, JH Kallis, CL Wh...</td>\n",
       "      <td>[AB Dinda, I Sharma, AB Agarkar]</td>\n",
       "      <td>857.658951</td>\n",
       "      <td>55.401176</td>\n",
       "    </tr>\n",
       "    <tr>\n",
       "      <th>2</th>\n",
       "      <td>335983</td>\n",
       "      <td>1</td>\n",
       "      <td>[PA Patel, ML Hayden, MEK Hussey]</td>\n",
       "      <td>[B Lee, S Sreesanth, JR Hopes]</td>\n",
       "      <td>804.351224</td>\n",
       "      <td>34.295762</td>\n",
       "    </tr>\n",
       "    <tr>\n",
       "      <th>3</th>\n",
       "      <td>335983</td>\n",
       "      <td>2</td>\n",
       "      <td>[K Goel, JR Hopes]</td>\n",
       "      <td>[JDP Oram, MS Gony]</td>\n",
       "      <td>162.517517</td>\n",
       "      <td>30.630840</td>\n",
       "    </tr>\n",
       "    <tr>\n",
       "      <th>4</th>\n",
       "      <td>335984</td>\n",
       "      <td>1</td>\n",
       "      <td>[T Kohli, YK Pathan, SR Watson, M Kaif]</td>\n",
       "      <td>[GD McGrath, B Geeves, MF Maharoof]</td>\n",
       "      <td>728.545394</td>\n",
       "      <td>25.175943</td>\n",
       "    </tr>\n",
       "    <tr>\n",
       "      <th>...</th>\n",
       "      <td>...</td>\n",
       "      <td>...</td>\n",
       "      <td>...</td>\n",
       "      <td>...</td>\n",
       "      <td>...</td>\n",
       "      <td>...</td>\n",
       "    </tr>\n",
       "    <tr>\n",
       "      <th>1923</th>\n",
       "      <td>1312198</td>\n",
       "      <td>2</td>\n",
       "      <td>[Q de Kock, KL Rahul, M Vohra, DJ Hooda]</td>\n",
       "      <td>[Mohammed Siraj, JR Hazlewood, Shahbaz Ahmed]</td>\n",
       "      <td>892.593701</td>\n",
       "      <td>35.125927</td>\n",
       "    </tr>\n",
       "    <tr>\n",
       "      <th>1924</th>\n",
       "      <td>1312199</td>\n",
       "      <td>1</td>\n",
       "      <td>[V Kohli, F du Plessis, RM Patidar]</td>\n",
       "      <td>[TA Boult, M Prasidh Krishna]</td>\n",
       "      <td>1368.636119</td>\n",
       "      <td>58.886480</td>\n",
       "    </tr>\n",
       "    <tr>\n",
       "      <th>1925</th>\n",
       "      <td>1312199</td>\n",
       "      <td>2</td>\n",
       "      <td>[YBK Jaiswal, JC Buttler, SV Samson]</td>\n",
       "      <td>[Mohammed Siraj, JR Hazlewood, GJ Maxwell, Sha...</td>\n",
       "      <td>908.498121</td>\n",
       "      <td>35.311039</td>\n",
       "    </tr>\n",
       "    <tr>\n",
       "      <th>1926</th>\n",
       "      <td>1312200</td>\n",
       "      <td>1</td>\n",
       "      <td>[YBK Jaiswal, JC Buttler, SV Samson]</td>\n",
       "      <td>[Mohammed Shami, Yash Dayal, LH Ferguson, Rash...</td>\n",
       "      <td>908.498121</td>\n",
       "      <td>52.235599</td>\n",
       "    </tr>\n",
       "    <tr>\n",
       "      <th>1927</th>\n",
       "      <td>1312200</td>\n",
       "      <td>2</td>\n",
       "      <td>[WP Saha, Shubman Gill, MS Wade, HH Pandya]</td>\n",
       "      <td>[TA Boult, M Prasidh Krishna, YS Chahal]</td>\n",
       "      <td>657.326163</td>\n",
       "      <td>75.174198</td>\n",
       "    </tr>\n",
       "  </tbody>\n",
       "</table>\n",
       "<p>1928 rows × 6 columns</p>\n",
       "</div>"
      ],
      "text/plain": [
       "           ID  innings                                             batter  \\\n",
       "0      335982        1              [SC Ganguly, BB McCullum, RT Ponting]   \n",
       "1      335982        2  [R Dravid, W Jaffer, V Kohli, JH Kallis, CL Wh...   \n",
       "2      335983        1                  [PA Patel, ML Hayden, MEK Hussey]   \n",
       "3      335983        2                                 [K Goel, JR Hopes]   \n",
       "4      335984        1            [T Kohli, YK Pathan, SR Watson, M Kaif]   \n",
       "...       ...      ...                                                ...   \n",
       "1923  1312198        2           [Q de Kock, KL Rahul, M Vohra, DJ Hooda]   \n",
       "1924  1312199        1                [V Kohli, F du Plessis, RM Patidar]   \n",
       "1925  1312199        2               [YBK Jaiswal, JC Buttler, SV Samson]   \n",
       "1926  1312200        1               [YBK Jaiswal, JC Buttler, SV Samson]   \n",
       "1927  1312200        2        [WP Saha, Shubman Gill, MS Wade, HH Pandya]   \n",
       "\n",
       "                                                 bowler  batting_strength  \\\n",
       "0                          [P Kumar, Z Khan, AA Noffke]        592.700426   \n",
       "1                      [AB Dinda, I Sharma, AB Agarkar]        857.658951   \n",
       "2                        [B Lee, S Sreesanth, JR Hopes]        804.351224   \n",
       "3                                   [JDP Oram, MS Gony]        162.517517   \n",
       "4                   [GD McGrath, B Geeves, MF Maharoof]        728.545394   \n",
       "...                                                 ...               ...   \n",
       "1923      [Mohammed Siraj, JR Hazlewood, Shahbaz Ahmed]        892.593701   \n",
       "1924                      [TA Boult, M Prasidh Krishna]       1368.636119   \n",
       "1925  [Mohammed Siraj, JR Hazlewood, GJ Maxwell, Sha...        908.498121   \n",
       "1926  [Mohammed Shami, Yash Dayal, LH Ferguson, Rash...        908.498121   \n",
       "1927           [TA Boult, M Prasidh Krishna, YS Chahal]        657.326163   \n",
       "\n",
       "      bowling_strength  \n",
       "0            59.848952  \n",
       "1            55.401176  \n",
       "2            34.295762  \n",
       "3            30.630840  \n",
       "4            25.175943  \n",
       "...                ...  \n",
       "1923         35.125927  \n",
       "1924         58.886480  \n",
       "1925         35.311039  \n",
       "1926         52.235599  \n",
       "1927         75.174198  \n",
       "\n",
       "[1928 rows x 6 columns]"
      ]
     },
     "execution_count": 40,
     "metadata": {},
     "output_type": "execute_result"
    }
   ],
   "source": [
    "data0"
   ]
  },
  {
   "cell_type": "code",
   "execution_count": 41,
   "metadata": {},
   "outputs": [
    {
     "data": {
      "text/html": [
       "<div>\n",
       "<style scoped>\n",
       "    .dataframe tbody tr th:only-of-type {\n",
       "        vertical-align: middle;\n",
       "    }\n",
       "\n",
       "    .dataframe tbody tr th {\n",
       "        vertical-align: top;\n",
       "    }\n",
       "\n",
       "    .dataframe thead th {\n",
       "        text-align: right;\n",
       "    }\n",
       "</style>\n",
       "<table border=\"1\" class=\"dataframe\">\n",
       "  <thead>\n",
       "    <tr style=\"text-align: right;\">\n",
       "      <th></th>\n",
       "      <th>ID</th>\n",
       "      <th>innings</th>\n",
       "      <th>batter</th>\n",
       "      <th>bowler</th>\n",
       "      <th>batting_strength</th>\n",
       "      <th>bowling_strength</th>\n",
       "      <th>total_run</th>\n",
       "    </tr>\n",
       "  </thead>\n",
       "  <tbody>\n",
       "    <tr>\n",
       "      <th>0</th>\n",
       "      <td>335982</td>\n",
       "      <td>1</td>\n",
       "      <td>[SC Ganguly, BB McCullum, RT Ponting]</td>\n",
       "      <td>[P Kumar, Z Khan, AA Noffke]</td>\n",
       "      <td>592.700426</td>\n",
       "      <td>59.848952</td>\n",
       "      <td>61</td>\n",
       "    </tr>\n",
       "    <tr>\n",
       "      <th>1</th>\n",
       "      <td>335982</td>\n",
       "      <td>2</td>\n",
       "      <td>[R Dravid, W Jaffer, V Kohli, JH Kallis, CL Wh...</td>\n",
       "      <td>[AB Dinda, I Sharma, AB Agarkar]</td>\n",
       "      <td>857.658951</td>\n",
       "      <td>55.401176</td>\n",
       "      <td>26</td>\n",
       "    </tr>\n",
       "    <tr>\n",
       "      <th>2</th>\n",
       "      <td>335983</td>\n",
       "      <td>1</td>\n",
       "      <td>[PA Patel, ML Hayden, MEK Hussey]</td>\n",
       "      <td>[B Lee, S Sreesanth, JR Hopes]</td>\n",
       "      <td>804.351224</td>\n",
       "      <td>34.295762</td>\n",
       "      <td>53</td>\n",
       "    </tr>\n",
       "    <tr>\n",
       "      <th>3</th>\n",
       "      <td>335983</td>\n",
       "      <td>2</td>\n",
       "      <td>[K Goel, JR Hopes]</td>\n",
       "      <td>[JDP Oram, MS Gony]</td>\n",
       "      <td>162.517517</td>\n",
       "      <td>30.630840</td>\n",
       "      <td>63</td>\n",
       "    </tr>\n",
       "    <tr>\n",
       "      <th>4</th>\n",
       "      <td>335984</td>\n",
       "      <td>1</td>\n",
       "      <td>[T Kohli, YK Pathan, SR Watson, M Kaif]</td>\n",
       "      <td>[GD McGrath, B Geeves, MF Maharoof]</td>\n",
       "      <td>728.545394</td>\n",
       "      <td>25.175943</td>\n",
       "      <td>40</td>\n",
       "    </tr>\n",
       "    <tr>\n",
       "      <th>...</th>\n",
       "      <td>...</td>\n",
       "      <td>...</td>\n",
       "      <td>...</td>\n",
       "      <td>...</td>\n",
       "      <td>...</td>\n",
       "      <td>...</td>\n",
       "      <td>...</td>\n",
       "    </tr>\n",
       "    <tr>\n",
       "      <th>1923</th>\n",
       "      <td>1312198</td>\n",
       "      <td>2</td>\n",
       "      <td>[Q de Kock, KL Rahul, M Vohra, DJ Hooda]</td>\n",
       "      <td>[Mohammed Siraj, JR Hazlewood, Shahbaz Ahmed]</td>\n",
       "      <td>892.593701</td>\n",
       "      <td>35.125927</td>\n",
       "      <td>62</td>\n",
       "    </tr>\n",
       "    <tr>\n",
       "      <th>1924</th>\n",
       "      <td>1312199</td>\n",
       "      <td>1</td>\n",
       "      <td>[V Kohli, F du Plessis, RM Patidar]</td>\n",
       "      <td>[TA Boult, M Prasidh Krishna]</td>\n",
       "      <td>1368.636119</td>\n",
       "      <td>58.886480</td>\n",
       "      <td>46</td>\n",
       "    </tr>\n",
       "    <tr>\n",
       "      <th>1925</th>\n",
       "      <td>1312199</td>\n",
       "      <td>2</td>\n",
       "      <td>[YBK Jaiswal, JC Buttler, SV Samson]</td>\n",
       "      <td>[Mohammed Siraj, JR Hazlewood, GJ Maxwell, Sha...</td>\n",
       "      <td>908.498121</td>\n",
       "      <td>35.311039</td>\n",
       "      <td>67</td>\n",
       "    </tr>\n",
       "    <tr>\n",
       "      <th>1926</th>\n",
       "      <td>1312200</td>\n",
       "      <td>1</td>\n",
       "      <td>[YBK Jaiswal, JC Buttler, SV Samson]</td>\n",
       "      <td>[Mohammed Shami, Yash Dayal, LH Ferguson, Rash...</td>\n",
       "      <td>908.498121</td>\n",
       "      <td>52.235599</td>\n",
       "      <td>44</td>\n",
       "    </tr>\n",
       "    <tr>\n",
       "      <th>1927</th>\n",
       "      <td>1312200</td>\n",
       "      <td>2</td>\n",
       "      <td>[WP Saha, Shubman Gill, MS Wade, HH Pandya]</td>\n",
       "      <td>[TA Boult, M Prasidh Krishna, YS Chahal]</td>\n",
       "      <td>657.326163</td>\n",
       "      <td>75.174198</td>\n",
       "      <td>31</td>\n",
       "    </tr>\n",
       "  </tbody>\n",
       "</table>\n",
       "<p>1928 rows × 7 columns</p>\n",
       "</div>"
      ],
      "text/plain": [
       "           ID  innings                                             batter  \\\n",
       "0      335982        1              [SC Ganguly, BB McCullum, RT Ponting]   \n",
       "1      335982        2  [R Dravid, W Jaffer, V Kohli, JH Kallis, CL Wh...   \n",
       "2      335983        1                  [PA Patel, ML Hayden, MEK Hussey]   \n",
       "3      335983        2                                 [K Goel, JR Hopes]   \n",
       "4      335984        1            [T Kohli, YK Pathan, SR Watson, M Kaif]   \n",
       "...       ...      ...                                                ...   \n",
       "1923  1312198        2           [Q de Kock, KL Rahul, M Vohra, DJ Hooda]   \n",
       "1924  1312199        1                [V Kohli, F du Plessis, RM Patidar]   \n",
       "1925  1312199        2               [YBK Jaiswal, JC Buttler, SV Samson]   \n",
       "1926  1312200        1               [YBK Jaiswal, JC Buttler, SV Samson]   \n",
       "1927  1312200        2        [WP Saha, Shubman Gill, MS Wade, HH Pandya]   \n",
       "\n",
       "                                                 bowler  batting_strength  \\\n",
       "0                          [P Kumar, Z Khan, AA Noffke]        592.700426   \n",
       "1                      [AB Dinda, I Sharma, AB Agarkar]        857.658951   \n",
       "2                        [B Lee, S Sreesanth, JR Hopes]        804.351224   \n",
       "3                                   [JDP Oram, MS Gony]        162.517517   \n",
       "4                   [GD McGrath, B Geeves, MF Maharoof]        728.545394   \n",
       "...                                                 ...               ...   \n",
       "1923      [Mohammed Siraj, JR Hazlewood, Shahbaz Ahmed]        892.593701   \n",
       "1924                      [TA Boult, M Prasidh Krishna]       1368.636119   \n",
       "1925  [Mohammed Siraj, JR Hazlewood, GJ Maxwell, Sha...        908.498121   \n",
       "1926  [Mohammed Shami, Yash Dayal, LH Ferguson, Rash...        908.498121   \n",
       "1927           [TA Boult, M Prasidh Krishna, YS Chahal]        657.326163   \n",
       "\n",
       "      bowling_strength  total_run  \n",
       "0            59.848952         61  \n",
       "1            55.401176         26  \n",
       "2            34.295762         53  \n",
       "3            30.630840         63  \n",
       "4            25.175943         40  \n",
       "...                ...        ...  \n",
       "1923         35.125927         62  \n",
       "1924         58.886480         46  \n",
       "1925         35.311039         67  \n",
       "1926         52.235599         44  \n",
       "1927         75.174198         31  \n",
       "\n",
       "[1928 rows x 7 columns]"
      ]
     },
     "execution_count": 41,
     "metadata": {},
     "output_type": "execute_result"
    }
   ],
   "source": [
    "data_final = pd.merge(data0, score_6over, on=['ID', 'innings'])\n",
    "data_final"
   ]
  },
  {
   "cell_type": "code",
   "execution_count": 42,
   "metadata": {},
   "outputs": [],
   "source": [
    "data_final.to_csv('training_data.csv')"
   ]
  },
  {
   "cell_type": "code",
   "execution_count": null,
   "metadata": {},
   "outputs": [],
   "source": []
  },
  {
   "cell_type": "code",
   "execution_count": null,
   "metadata": {},
   "outputs": [],
   "source": []
  }
 ],
 "metadata": {
  "kernelspec": {
   "display_name": "Python 3",
   "language": "python",
   "name": "python3"
  },
  "language_info": {
   "codemirror_mode": {
    "name": "ipython",
    "version": 3
   },
   "file_extension": ".py",
   "mimetype": "text/x-python",
   "name": "python",
   "nbconvert_exporter": "python",
   "pygments_lexer": "ipython3",
   "version": "3.11.1"
  },
  "orig_nbformat": 4
 },
 "nbformat": 4,
 "nbformat_minor": 2
}
